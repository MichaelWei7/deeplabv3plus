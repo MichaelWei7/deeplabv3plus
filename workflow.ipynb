{
 "cells": [
  {
   "cell_type": "markdown",
   "id": "0c74ee0b-f591-4073-9336-a339cda3535f",
   "metadata": {},
   "source": [
    "# workflow 开发测试"
   ]
  },
  {
   "cell_type": "markdown",
   "id": "a4adbb3e-1723-452e-bb49-2ceccfb683a1",
   "metadata": {},
   "source": [
    "## 环境安装"
   ]
  },
  {
   "cell_type": "code",
   "execution_count": null,
   "id": "6a245651-aa16-4b60-a780-081f1eefb53a",
   "metadata": {},
   "outputs": [],
   "source": [
    "# 更新 pip\n",
    "!/home/ma-user/anaconda3/envs/PyTorch-1.8/bin/python -m pip install --upgrade pip"
   ]
  },
  {
   "cell_type": "code",
   "execution_count": null,
   "id": "cb50e87c-89d5-450b-b7a3-ed28ba5fe341",
   "metadata": {},
   "outputs": [],
   "source": [
    "# 下载安装包\n",
    "!rm modelarts*.whl\n",
    "!wget -N https://modelarts-cnnorth4-market.obs.cn-north-4.myhuaweicloud.com/workflow-apps/modelarts-1.3.0-py2.py3-none-any.whl\n",
    "!wget -N https://modelarts-cnnorth4-market.obs.cn-north-4.myhuaweicloud.com/workflow-apps/v0.1.1/85719177/modelarts_workflow-0.1.1-py2.py3-none-any.whl"
   ]
  },
  {
   "cell_type": "code",
   "execution_count": 1,
   "id": "7fa3551c-1af5-42ba-86a5-fb74b76e6126",
   "metadata": {},
   "outputs": [
    {
     "name": "stdout",
     "output_type": "stream",
     "text": [
      "Looking in indexes: http://repo.myhuaweicloud.com/repository/pypi/simple\n",
      "Processing ./modelarts-1.3.0-py2.py3-none-any.whl\n",
      "Requirement already satisfied: pandas<=1.3.4 in /home/ma-user/anaconda3/envs/PyTorch-1.8/lib/python3.7/site-packages (from modelarts==1.3.0) (1.1.5)\n",
      "Requirement already satisfied: ephemeral-port-reserve<=1.1.4 in /home/ma-user/modelarts/modelarts-sdk (from modelarts==1.3.0) (1.1.4)\n",
      "Requirement already satisfied: semantic-version<=2.8.5 in /home/ma-user/modelarts/modelarts-sdk (from modelarts==1.3.0) (2.8.5)\n",
      "Collecting configparser<=5.0.2\n",
      "  Downloading http://repo.myhuaweicloud.com/repository/pypi/packages/fd/01/ff260a18caaf4457eb028c96eeb405c4a230ca06c8ec9c1379f813caa52e/configparser-5.0.2-py3-none-any.whl (19 kB)\n",
      "Requirement already satisfied: pyyaml<=6.0 in /home/ma-user/anaconda3/envs/PyTorch-1.8/lib/python3.7/site-packages (from modelarts==1.3.0) (5.1)\n",
      "Requirement already satisfied: six<=1.16.0 in /home/ma-user/anaconda3/envs/PyTorch-1.8/lib/python3.7/site-packages (from modelarts==1.3.0) (1.16.0)\n",
      "Collecting tqdm<=4.62.3\n",
      "  Downloading http://repo.myhuaweicloud.com/repository/pypi/packages/63/f3/b7a1b8e40fd1bd049a34566eb353527bb9b8e9b98f8b6cf803bb64d8ce95/tqdm-4.62.3-py2.py3-none-any.whl (76 kB)\n",
      "\u001b[K     |████████████████████████████████| 76 kB 92.0 MB/s  eta 0:00:01\n",
      "\u001b[?25hRequirement already satisfied: esdk-obs-python<=3.21.4 in /home/ma-user/modelarts/modelarts-sdk (from modelarts==1.3.0) (3.21.4)\n",
      "Collecting urllib3<=1.26.7\n",
      "  Downloading http://repo.myhuaweicloud.com/repository/pypi/packages/af/f4/524415c0744552cce7d8bf3669af78e8a069514405ea4fcbd0cc44733744/urllib3-1.26.7-py2.py3-none-any.whl (138 kB)\n",
      "\u001b[K     |████████████████████████████████| 138 kB 19.1 MB/s eta 0:00:01\n",
      "\u001b[?25hRequirement already satisfied: lxml<=4.7.1 in /home/ma-user/anaconda3/envs/PyTorch-1.8/lib/python3.7/site-packages (from modelarts==1.3.0) (4.7.1)\n",
      "Requirement already satisfied: prettytable<=2.1.0 in /home/ma-user/anaconda3/envs/PyTorch-1.8/lib/python3.7/site-packages (from modelarts==1.3.0) (0.7.2)\n",
      "Requirement already satisfied: Pillow<=8.4.0 in /home/ma-user/anaconda3/envs/PyTorch-1.8/lib/python3.7/site-packages (from modelarts==1.3.0) (6.2.0)\n",
      "Requirement already satisfied: huaweicloudsdkcore==3.0.50 in /home/ma-user/modelarts/modelarts-sdk (from modelarts==1.3.0) (3.0.50)\n",
      "Collecting requests<=2.26.0\n",
      "  Downloading http://repo.myhuaweicloud.com/repository/pypi/packages/92/96/144f70b972a9c0eabbd4391ef93ccd49d0f2747f4f6a2a2738e99e5adc65/requests-2.26.0-py2.py3-none-any.whl (62 kB)\n",
      "\u001b[K     |████████████████████████████████| 62 kB 46.1 MB/s  eta 0:00:01\n",
      "\u001b[?25hRequirement already satisfied: tenacity<=8.0.1 in /home/ma-user/modelarts/modelarts-sdk (from modelarts==1.3.0) (8.0.1)\n",
      "Requirement already satisfied: futures in /home/ma-user/modelarts/modelarts-sdk (from huaweicloudsdkcore==3.0.50->modelarts==1.3.0) (3.1.1)\n",
      "Requirement already satisfied: requests-futures in /home/ma-user/modelarts/modelarts-sdk (from huaweicloudsdkcore==3.0.50->modelarts==1.3.0) (1.0.0)\n",
      "Requirement already satisfied: pytz>=2017.2 in /home/ma-user/anaconda3/envs/PyTorch-1.8/lib/python3.7/site-packages (from pandas<=1.3.4->modelarts==1.3.0) (2022.1)\n",
      "Requirement already satisfied: python-dateutil>=2.7.3 in /home/ma-user/anaconda3/envs/PyTorch-1.8/lib/python3.7/site-packages (from pandas<=1.3.4->modelarts==1.3.0) (2.8.2)\n",
      "Requirement already satisfied: numpy>=1.15.4 in /home/ma-user/anaconda3/envs/PyTorch-1.8/lib/python3.7/site-packages (from pandas<=1.3.4->modelarts==1.3.0) (1.17.0)\n",
      "Requirement already satisfied: charset-normalizer~=2.0.0 in /home/ma-user/anaconda3/envs/PyTorch-1.8/lib/python3.7/site-packages (from requests<=2.26.0->modelarts==1.3.0) (2.0.12)\n",
      "Requirement already satisfied: idna<4,>=2.5 in /home/ma-user/anaconda3/envs/PyTorch-1.8/lib/python3.7/site-packages (from requests<=2.26.0->modelarts==1.3.0) (3.3)\n",
      "Requirement already satisfied: certifi>=2017.4.17 in /home/ma-user/anaconda3/envs/PyTorch-1.8/lib/python3.7/site-packages (from requests<=2.26.0->modelarts==1.3.0) (2021.10.8)\n",
      "Installing collected packages: urllib3, requests, tqdm, configparser, modelarts\n",
      "  Attempting uninstall: urllib3\n",
      "    Found existing installation: urllib3 1.26.9\n",
      "    Uninstalling urllib3-1.26.9:\n",
      "      Successfully uninstalled urllib3-1.26.9\n",
      "  Attempting uninstall: requests\n",
      "    Found existing installation: requests 2.27.1\n",
      "    Uninstalling requests-2.27.1:\n",
      "      Successfully uninstalled requests-2.27.1\n",
      "  Attempting uninstall: tqdm\n",
      "    Found existing installation: tqdm 4.64.0\n",
      "    Uninstalling tqdm-4.64.0:\n",
      "      Successfully uninstalled tqdm-4.64.0\n",
      "  Attempting uninstall: configparser\n",
      "    Found existing installation: configparser 5.2.0\n",
      "    Uninstalling configparser-5.2.0:\n",
      "      Successfully uninstalled configparser-5.2.0\n",
      "  Attempting uninstall: modelarts\n",
      "    Found existing installation: modelarts 1.4.6\n",
      "    Uninstalling modelarts-1.4.6:\n",
      "      Successfully uninstalled modelarts-1.4.6\n",
      "\u001b[31mERROR: pip's dependency resolver does not currently take into account all the packages that are installed. This behaviour is the source of the following dependency conflicts.\n",
      "ma-cau 1.1.3 requires requests~=2.27.1, but you have requests 2.26.0 which is incompatible.\n",
      "ma-cau 1.1.3 requires tenacity<=6.1.0, but you have tenacity 8.0.1 which is incompatible.\u001b[0m\n",
      "Successfully installed configparser-5.0.2 modelarts-1.3.0 requests-2.26.0 tqdm-4.62.3 urllib3-1.26.7\n",
      "\u001b[33mWARNING: You are using pip version 21.2.2; however, version 22.1.2 is available.\n",
      "You should consider upgrading via the '/home/ma-user/anaconda3/envs/PyTorch-1.8/bin/python -m pip install --upgrade pip' command.\u001b[0m\n",
      "Looking in indexes: http://repo.myhuaweicloud.com/repository/pypi/simple\n",
      "Processing ./modelarts_workflow-0.1.1-py2.py3-none-any.whl\n",
      "Requirement already satisfied: Pillow in /home/ma-user/anaconda3/envs/PyTorch-1.8/lib/python3.7/site-packages (from modelarts-workflow==0.1.1) (6.2.0)\n",
      "Requirement already satisfied: urllib3>=1.21.1 in /home/ma-user/anaconda3/envs/PyTorch-1.8/lib/python3.7/site-packages (from modelarts-workflow==0.1.1) (1.26.7)\n",
      "Requirement already satisfied: networkx in /home/ma-user/anaconda3/envs/PyTorch-1.8/lib/python3.7/site-packages (from modelarts-workflow==0.1.1) (2.6.3)\n",
      "Requirement already satisfied: six>=1.10 in /home/ma-user/anaconda3/envs/PyTorch-1.8/lib/python3.7/site-packages (from modelarts-workflow==0.1.1) (1.16.0)\n",
      "Requirement already satisfied: pandas>=0.24.2 in /home/ma-user/anaconda3/envs/PyTorch-1.8/lib/python3.7/site-packages (from modelarts-workflow==0.1.1) (1.1.5)\n",
      "Requirement already satisfied: semantic-version>=2.8.5 in /home/ma-user/modelarts/modelarts-sdk (from modelarts-workflow==0.1.1) (2.8.5)\n",
      "Requirement already satisfied: pyyaml>=3.12 in /home/ma-user/anaconda3/envs/PyTorch-1.8/lib/python3.7/site-packages (from modelarts-workflow==0.1.1) (5.1)\n",
      "Requirement already satisfied: certifi in /home/ma-user/anaconda3/envs/PyTorch-1.8/lib/python3.7/site-packages (from modelarts-workflow==0.1.1) (2021.10.8)\n",
      "Requirement already satisfied: esdk-obs-python in /home/ma-user/modelarts/modelarts-sdk (from modelarts-workflow==0.1.1) (3.21.4)\n",
      "Requirement already satisfied: configparser>=3.7.3 in /home/ma-user/anaconda3/envs/PyTorch-1.8/lib/python3.7/site-packages (from modelarts-workflow==0.1.1) (5.0.2)\n",
      "Requirement already satisfied: ephemeral-port-reserve>=1.1.1 in /home/ma-user/modelarts/modelarts-sdk (from modelarts-workflow==0.1.1) (1.1.4)\n",
      "Requirement already satisfied: python-dateutil in /home/ma-user/anaconda3/envs/PyTorch-1.8/lib/python3.7/site-packages (from modelarts-workflow==0.1.1) (2.8.2)\n",
      "Collecting attrs\n",
      "  Downloading http://repo.myhuaweicloud.com/repository/pypi/packages/be/be/7abce643bfdf8ca01c48afa2ddf8308c2308b0c3b239a44e57d020afa0ef/attrs-21.4.0-py2.py3-none-any.whl (60 kB)\n",
      "\u001b[K     |████████████████████████████████| 60 kB 102.0 MB/s ta 0:00:01\n",
      "\u001b[?25hCollecting matplotlib==3.4.1\n",
      "  Downloading http://repo.myhuaweicloud.com/repository/pypi/packages/ce/63/74c0b6184b6b169b121bb72458818ee60a7d7c436d7b1907bd5874188c55/matplotlib-3.4.1-cp37-cp37m-manylinux1_x86_64.whl (10.3 MB)\n",
      "\u001b[K     |████████████████████████████████| 10.3 MB 19.1 MB/s eta 0:00:01\n",
      "\u001b[?25hRequirement already satisfied: requests>=2.19.1 in /home/ma-user/anaconda3/envs/PyTorch-1.8/lib/python3.7/site-packages (from modelarts-workflow==0.1.1) (2.26.0)\n",
      "Requirement already satisfied: numpy>=1.16 in /home/ma-user/anaconda3/envs/PyTorch-1.8/lib/python3.7/site-packages (from matplotlib==3.4.1->modelarts-workflow==0.1.1) (1.17.0)\n",
      "Requirement already satisfied: kiwisolver>=1.0.1 in /home/ma-user/anaconda3/envs/PyTorch-1.8/lib/python3.7/site-packages (from matplotlib==3.4.1->modelarts-workflow==0.1.1) (1.4.2)\n",
      "Requirement already satisfied: cycler>=0.10 in /home/ma-user/anaconda3/envs/PyTorch-1.8/lib/python3.7/site-packages (from matplotlib==3.4.1->modelarts-workflow==0.1.1) (0.11.0)\n",
      "Requirement already satisfied: pyparsing>=2.2.1 in /home/ma-user/anaconda3/envs/PyTorch-1.8/lib/python3.7/site-packages (from matplotlib==3.4.1->modelarts-workflow==0.1.1) (3.0.8)\n",
      "Requirement already satisfied: typing-extensions in /home/ma-user/anaconda3/envs/PyTorch-1.8/lib/python3.7/site-packages (from kiwisolver>=1.0.1->matplotlib==3.4.1->modelarts-workflow==0.1.1) (4.2.0)\n",
      "Requirement already satisfied: pytz>=2017.2 in /home/ma-user/anaconda3/envs/PyTorch-1.8/lib/python3.7/site-packages (from pandas>=0.24.2->modelarts-workflow==0.1.1) (2022.1)\n",
      "Requirement already satisfied: charset-normalizer~=2.0.0 in /home/ma-user/anaconda3/envs/PyTorch-1.8/lib/python3.7/site-packages (from requests>=2.19.1->modelarts-workflow==0.1.1) (2.0.12)\n",
      "Requirement already satisfied: idna<4,>=2.5 in /home/ma-user/anaconda3/envs/PyTorch-1.8/lib/python3.7/site-packages (from requests>=2.19.1->modelarts-workflow==0.1.1) (3.3)\n",
      "Installing collected packages: matplotlib, attrs, modelarts-workflow\n",
      "  Attempting uninstall: matplotlib\n",
      "    Found existing installation: matplotlib 3.5.1\n",
      "    Uninstalling matplotlib-3.5.1:\n",
      "      Successfully uninstalled matplotlib-3.5.1\n",
      "Successfully installed attrs-21.4.0 matplotlib-3.4.1 modelarts-workflow-0.1.1\n",
      "\u001b[33mWARNING: You are using pip version 21.2.2; however, version 22.1.2 is available.\n",
      "You should consider upgrading via the '/home/ma-user/anaconda3/envs/PyTorch-1.8/bin/python -m pip install --upgrade pip' command.\u001b[0m\n",
      "Looking in indexes: http://repo.myhuaweicloud.com/repository/pypi/simple\n",
      "Processing ./modelarts-1.3.0-py2.py3-none-any.whl\n",
      "Requirement already satisfied: configparser<=5.0.2 in /home/ma-user/anaconda3/envs/PyTorch-1.8/lib/python3.7/site-packages (from modelarts==1.3.0) (5.0.2)\n",
      "Requirement already satisfied: ephemeral-port-reserve<=1.1.4 in /home/ma-user/modelarts/modelarts-sdk (from modelarts==1.3.0) (1.1.4)\n",
      "Requirement already satisfied: esdk-obs-python<=3.21.4 in /home/ma-user/modelarts/modelarts-sdk (from modelarts==1.3.0) (3.21.4)\n",
      "Requirement already satisfied: semantic-version<=2.8.5 in /home/ma-user/modelarts/modelarts-sdk (from modelarts==1.3.0) (2.8.5)\n",
      "Requirement already satisfied: pyyaml<=6.0 in /home/ma-user/anaconda3/envs/PyTorch-1.8/lib/python3.7/site-packages (from modelarts==1.3.0) (5.1)\n",
      "Requirement already satisfied: huaweicloudsdkcore==3.0.50 in /home/ma-user/modelarts/modelarts-sdk (from modelarts==1.3.0) (3.0.50)\n",
      "Requirement already satisfied: six<=1.16.0 in /home/ma-user/anaconda3/envs/PyTorch-1.8/lib/python3.7/site-packages (from modelarts==1.3.0) (1.16.0)\n",
      "Requirement already satisfied: pandas<=1.3.4 in /home/ma-user/anaconda3/envs/PyTorch-1.8/lib/python3.7/site-packages (from modelarts==1.3.0) (1.1.5)\n",
      "Requirement already satisfied: tqdm<=4.62.3 in /home/ma-user/anaconda3/envs/PyTorch-1.8/lib/python3.7/site-packages (from modelarts==1.3.0) (4.62.3)\n",
      "Requirement already satisfied: prettytable<=2.1.0 in /home/ma-user/anaconda3/envs/PyTorch-1.8/lib/python3.7/site-packages (from modelarts==1.3.0) (0.7.2)\n",
      "Requirement already satisfied: lxml<=4.7.1 in /home/ma-user/anaconda3/envs/PyTorch-1.8/lib/python3.7/site-packages (from modelarts==1.3.0) (4.7.1)\n",
      "Requirement already satisfied: urllib3<=1.26.7 in /home/ma-user/anaconda3/envs/PyTorch-1.8/lib/python3.7/site-packages (from modelarts==1.3.0) (1.26.7)\n",
      "Requirement already satisfied: Pillow<=8.4.0 in /home/ma-user/anaconda3/envs/PyTorch-1.8/lib/python3.7/site-packages (from modelarts==1.3.0) (6.2.0)\n",
      "Requirement already satisfied: requests<=2.26.0 in /home/ma-user/anaconda3/envs/PyTorch-1.8/lib/python3.7/site-packages (from modelarts==1.3.0) (2.26.0)\n",
      "Requirement already satisfied: tenacity<=8.0.1 in /home/ma-user/modelarts/modelarts-sdk (from modelarts==1.3.0) (8.0.1)\n",
      "Requirement already satisfied: requests-futures in /home/ma-user/modelarts/modelarts-sdk (from huaweicloudsdkcore==3.0.50->modelarts==1.3.0) (1.0.0)\n",
      "Requirement already satisfied: futures in /home/ma-user/modelarts/modelarts-sdk (from huaweicloudsdkcore==3.0.50->modelarts==1.3.0) (3.1.1)\n",
      "Requirement already satisfied: python-dateutil>=2.7.3 in /home/ma-user/anaconda3/envs/PyTorch-1.8/lib/python3.7/site-packages (from pandas<=1.3.4->modelarts==1.3.0) (2.8.2)\n",
      "Requirement already satisfied: numpy>=1.15.4 in /home/ma-user/anaconda3/envs/PyTorch-1.8/lib/python3.7/site-packages (from pandas<=1.3.4->modelarts==1.3.0) (1.17.0)\n",
      "Requirement already satisfied: pytz>=2017.2 in /home/ma-user/anaconda3/envs/PyTorch-1.8/lib/python3.7/site-packages (from pandas<=1.3.4->modelarts==1.3.0) (2022.1)\n",
      "Requirement already satisfied: certifi>=2017.4.17 in /home/ma-user/anaconda3/envs/PyTorch-1.8/lib/python3.7/site-packages (from requests<=2.26.0->modelarts==1.3.0) (2021.10.8)\n",
      "Requirement already satisfied: charset-normalizer~=2.0.0 in /home/ma-user/anaconda3/envs/PyTorch-1.8/lib/python3.7/site-packages (from requests<=2.26.0->modelarts==1.3.0) (2.0.12)\n",
      "Requirement already satisfied: idna<4,>=2.5 in /home/ma-user/anaconda3/envs/PyTorch-1.8/lib/python3.7/site-packages (from requests<=2.26.0->modelarts==1.3.0) (3.3)\n",
      "modelarts is already installed with the same version as the provided wheel. Use --force-reinstall to force an installation of the wheel.\n",
      "\u001b[33mWARNING: You are using pip version 21.2.2; however, version 22.1.2 is available.\n",
      "You should consider upgrading via the '/home/ma-user/anaconda3/envs/PyTorch-1.8/bin/python -m pip install --upgrade pip' command.\u001b[0m\n",
      "Looking in indexes: http://repo.myhuaweicloud.com/repository/pypi/simple\n",
      "Processing ./modelarts_workflow-0.1.1-py2.py3-none-any.whl\n",
      "Requirement already satisfied: semantic-version>=2.8.5 in /home/ma-user/modelarts/modelarts-sdk (from modelarts-workflow==0.1.1) (2.8.5)\n",
      "Requirement already satisfied: pandas>=0.24.2 in /home/ma-user/anaconda3/envs/PyTorch-1.8/lib/python3.7/site-packages (from modelarts-workflow==0.1.1) (1.1.5)\n",
      "Requirement already satisfied: pyyaml>=3.12 in /home/ma-user/anaconda3/envs/PyTorch-1.8/lib/python3.7/site-packages (from modelarts-workflow==0.1.1) (5.1)\n",
      "Requirement already satisfied: esdk-obs-python in /home/ma-user/modelarts/modelarts-sdk (from modelarts-workflow==0.1.1) (3.21.4)\n",
      "Requirement already satisfied: networkx in /home/ma-user/anaconda3/envs/PyTorch-1.8/lib/python3.7/site-packages (from modelarts-workflow==0.1.1) (2.6.3)\n",
      "Requirement already satisfied: python-dateutil in /home/ma-user/anaconda3/envs/PyTorch-1.8/lib/python3.7/site-packages (from modelarts-workflow==0.1.1) (2.8.2)\n",
      "Requirement already satisfied: certifi in /home/ma-user/anaconda3/envs/PyTorch-1.8/lib/python3.7/site-packages (from modelarts-workflow==0.1.1) (2021.10.8)\n",
      "Requirement already satisfied: six>=1.10 in /home/ma-user/anaconda3/envs/PyTorch-1.8/lib/python3.7/site-packages (from modelarts-workflow==0.1.1) (1.16.0)\n",
      "Requirement already satisfied: requests>=2.19.1 in /home/ma-user/anaconda3/envs/PyTorch-1.8/lib/python3.7/site-packages (from modelarts-workflow==0.1.1) (2.26.0)\n",
      "Requirement already satisfied: urllib3>=1.21.1 in /home/ma-user/anaconda3/envs/PyTorch-1.8/lib/python3.7/site-packages (from modelarts-workflow==0.1.1) (1.26.7)\n",
      "Requirement already satisfied: Pillow in /home/ma-user/anaconda3/envs/PyTorch-1.8/lib/python3.7/site-packages (from modelarts-workflow==0.1.1) (6.2.0)\n",
      "Requirement already satisfied: ephemeral-port-reserve>=1.1.1 in /home/ma-user/modelarts/modelarts-sdk (from modelarts-workflow==0.1.1) (1.1.4)\n",
      "Requirement already satisfied: configparser>=3.7.3 in /home/ma-user/anaconda3/envs/PyTorch-1.8/lib/python3.7/site-packages (from modelarts-workflow==0.1.1) (5.0.2)\n",
      "Requirement already satisfied: attrs in /home/ma-user/anaconda3/envs/PyTorch-1.8/lib/python3.7/site-packages (from modelarts-workflow==0.1.1) (21.4.0)\n",
      "Requirement already satisfied: matplotlib==3.4.1 in /home/ma-user/anaconda3/envs/PyTorch-1.8/lib/python3.7/site-packages (from modelarts-workflow==0.1.1) (3.4.1)\n",
      "Requirement already satisfied: cycler>=0.10 in /home/ma-user/anaconda3/envs/PyTorch-1.8/lib/python3.7/site-packages (from matplotlib==3.4.1->modelarts-workflow==0.1.1) (0.11.0)\n",
      "Requirement already satisfied: pyparsing>=2.2.1 in /home/ma-user/anaconda3/envs/PyTorch-1.8/lib/python3.7/site-packages (from matplotlib==3.4.1->modelarts-workflow==0.1.1) (3.0.8)\n",
      "Requirement already satisfied: numpy>=1.16 in /home/ma-user/anaconda3/envs/PyTorch-1.8/lib/python3.7/site-packages (from matplotlib==3.4.1->modelarts-workflow==0.1.1) (1.17.0)\n",
      "Requirement already satisfied: kiwisolver>=1.0.1 in /home/ma-user/anaconda3/envs/PyTorch-1.8/lib/python3.7/site-packages (from matplotlib==3.4.1->modelarts-workflow==0.1.1) (1.4.2)\n",
      "Requirement already satisfied: typing-extensions in /home/ma-user/anaconda3/envs/PyTorch-1.8/lib/python3.7/site-packages (from kiwisolver>=1.0.1->matplotlib==3.4.1->modelarts-workflow==0.1.1) (4.2.0)\n",
      "Requirement already satisfied: pytz>=2017.2 in /home/ma-user/anaconda3/envs/PyTorch-1.8/lib/python3.7/site-packages (from pandas>=0.24.2->modelarts-workflow==0.1.1) (2022.1)\n",
      "Requirement already satisfied: charset-normalizer~=2.0.0 in /home/ma-user/anaconda3/envs/PyTorch-1.8/lib/python3.7/site-packages (from requests>=2.19.1->modelarts-workflow==0.1.1) (2.0.12)\n",
      "Requirement already satisfied: idna<4,>=2.5 in /home/ma-user/anaconda3/envs/PyTorch-1.8/lib/python3.7/site-packages (from requests>=2.19.1->modelarts-workflow==0.1.1) (3.3)\n",
      "modelarts-workflow is already installed with the same version as the provided wheel. Use --force-reinstall to force an installation of the wheel.\n",
      "\u001b[33mWARNING: You are using pip version 21.2.2; however, version 22.1.2 is available.\n",
      "You should consider upgrading via the '/home/ma-user/anaconda3/envs/PyTorch-1.8/bin/python -m pip install --upgrade pip' command.\u001b[0m\n"
     ]
    }
   ],
   "source": [
    "# 安装\n",
    "#!pip uninstall -y modelarts modelarts-workflow\n",
    "!pip install modelarts-*-py2.py3-none-any.whl\n",
    "!pip install modelarts_workflow-*-py2.py3-none-any.whl\n",
    "!pip install modelarts-*-py2.py3-none-any.whl\n",
    "!pip install modelarts_workflow-*-py2.py3-none-any.whl"
   ]
  },
  {
   "cell_type": "markdown",
   "id": "99c16d4e-6e82-4175-a39c-a04a0b41aaee",
   "metadata": {},
   "source": [
    "## 导入模块"
   ]
  },
  {
   "cell_type": "markdown",
   "id": "2c051ecc-ed06-4bb0-81ef-bb04578664c3",
   "metadata": {},
   "source": [
    "注意: 安装好 pip 包后需要重启内核."
   ]
  },
  {
   "cell_type": "code",
   "execution_count": 2,
   "id": "fbf1690c-5dfe-4815-88c1-71bdd971717a",
   "metadata": {},
   "outputs": [
    {
     "name": "stderr",
     "output_type": "stream",
     "text": [
      "INFO:matplotlib.font_manager:generated new fontManager\n"
     ]
    }
   ],
   "source": [
    "import os\n",
    "from modelarts import workflow as wf"
   ]
  },
  {
   "cell_type": "markdown",
   "id": "a7e65d92-8142-448e-9343-b98ac4232c9f",
   "metadata": {},
   "source": [
    "# 创建 workflow"
   ]
  },
  {
   "cell_type": "code",
   "execution_count": 3,
   "id": "50c1a787-e08e-4fb5-957e-3fca84c1d049",
   "metadata": {},
   "outputs": [],
   "source": [
    "# 定义统一存储对象管理输出目录\n",
    "output_storage = wf.data.OutputStorage(name=\"output_storage\", description=\"输出目录统一配置\")\n",
    "\n",
    "# 创建标注任务\n",
    "data = wf.data.DatasetPlaceholder(name=\"input_data\")\n",
    "\n",
    "label_step = wf.steps.LabelingStep(\n",
    "    name=\"labeling\", title=\"标注图像\",\n",
    "    properties=wf.steps.LabelTaskProperties(\n",
    "        task_type=wf.data.LabelTaskTypeEnum.IMAGE_SEGMENTATION,\n",
    "        task_name=wf.Placeholder(name=\"task_name\", placeholder_type=wf.PlaceholderType.STR, \n",
    "                                 description=\"请输入一个只包含大小写字母、数字、下划线、中划线或者中文字符的名称。\\\n",
    "                                              填写已有标注任务名称，则直接使用该标注任务；填写新标注任务名称，则自动创建新的标注任务\")),\n",
    "    inputs=wf.steps.LabelingInput(name=\"labeling_input\", data = data),\n",
    "    outputs=wf.steps.LabelingOutput(name=\"labeling_output\"),\n",
    ")\n",
    "# 对标注任务进行发布\n",
    "release_step = wf.steps.ReleaseDatasetStep(\n",
    "    name=\"release\",\n",
    "    title=\"发布数据集\",\n",
    "    inputs=wf.steps.ReleaseDatasetInput(name=\"input_data\", data=label_step.outputs[\"labeling_output\"].as_input()),\n",
    "    outputs=wf.steps.ReleaseDatasetOutput(name=\"labeling_output\"),\n",
    "    depend_steps=[label_step]\n",
    ")"
   ]
  },
  {
   "cell_type": "code",
   "execution_count": 4,
   "id": "2a199b98-4c8d-494d-b8e4-0f0eaa3393c2",
   "metadata": {},
   "outputs": [],
   "source": [
    "# 创建训练作业\n",
    "job_step = wf.steps.JobStep(\n",
    "    name=\"training_job\",\n",
    "    title=\"训练模型\",\n",
    "    algorithm = wf.AIGalleryAlgorithm( # 从 AI Gallery 中导入.\n",
    "    #algorithm = wf.Algorithm( # 从算法中导入.\n",
    "        #algorithm_id = \"87a49f4b-eca2-4072-8b31-933a5f4c7989\",# 从算法中导入.\n",
    "        \n",
    "        subscription_id=\"44297f21-299c-4040-9a11-64c30bac449b\", # 订阅算法的ID\n",
    "        item_version_id=\"Go9ZZo\", # 订阅算法的版本ID\n",
    "        \n",
    "        parameters = [\n",
    "            wf.AlgorithmParameters(name=\"learning_rate_strategy\", value=wf.Placeholder(name=\"learning_rate_strategy\", placeholder_type=wf.PlaceholderType.STR, default=\"0.002\", description=\"训练的学习率策略(10:0.001,20:0.0001代表0-10个epoch学习率0.001，10-20epoch学习率0.0001),如果不指定epoch, 会根据验证精度情况自动调整学习率，并当精度没有明显提升时，训练停止\")),\n",
    "            wf.AlgorithmParameters(name=\"batch_size\", value=wf.Placeholder(name=\"batch_size\", placeholder_type=wf.PlaceholderType.INT, default=64, description=\"每步训练的图片数量（单卡）\")),\n",
    "        ]\n",
    "    ),\n",
    "    inputs = [wf.steps.JobInput(name = \"data_url\", data = release_step.outputs[\"labeling_output\"].as_input()), \n",
    "              #wf.steps.JobInput(name = \"train_url\", data = wf.data.obs.OBSPath(obs_path = output_storage.join(\"/train_output/\"))),\n",
    "             ],\n",
    "    \n",
    "    outputs = [wf.steps.JobOutput(name = \"train_url\", obs_config = wf.data.OBSOutputConfig(obs_path=output_storage.join(\"/train_output/\")))],\n",
    "    \n",
    "    spec = wf.steps.JobSpec(resource = wf.steps.JobResource(flavor = wf.Placeholder(name = \"training_flavor\", placeholder_type = wf.PlaceholderType.JSON, description = \"训练资源规格\")),\n",
    "                            log_export_path=wf.steps.job_step.LogExportPath(obs_url=output_storage.join(\"/logs/\"))\n",
    "                           ),\n",
    "    depend_steps = [release_step]\n",
    ")\n",
    "\n",
    "model_name = wf.Placeholder(name=\"model_name\", placeholder_type=wf.PlaceholderType.STR, description=\"请输入一个1至64位且只包含大小写字母、中文、数字、中划线或者下划线的名称。工作流第一次运行建议填写新的模型名称，后续运行会自动在该模型上新增版本\")\n"
   ]
  },
  {
   "cell_type": "code",
   "execution_count": 5,
   "id": "30343c00-0b52-4745-b3bd-f1d942076523",
   "metadata": {},
   "outputs": [],
   "source": [
    "# 模型注册\n",
    "model_step = wf.steps.ModelStep(\n",
    "    name=\"model_step\",\n",
    "    title=\"注册模型\",\n",
    "    inputs=[wf.steps.ModelInput(name=\"model_input\", data=job_step.outputs[\"train_url\"].as_input())],\n",
    "    outputs=[wf.steps.ModelOutput(name=\"model_output\", model_config=wf.steps.ModelConfig(model_name=model_name, model_type=\"PyTorch\"))],\n",
    "    depend_steps=[job_step]\n",
    ")\n",
    "# 服务部署\n",
    "service_step = wf.steps.ServiceStep(\n",
    "    name=\"service_step\",\n",
    "    title=\"部署服务\",\n",
    "    inputs=[wf.steps.ServiceInput(name=\"service_input\", data=wf.data.ServiceInputPlaceholder(name=\"service_model\", model_name=model_name))],\n",
    "    outputs=[wf.steps.ServiceOutput(name=\"service_output\")],\n",
    "    depend_steps=[model_step]\n",
    ")\n",
    "# 构建工作流对象\n",
    "workflow = wf.Workflow(name=\"DeepLabV3plus\", # DeepLabV3plus\n",
    "                       desc=\"workflow 图像分割算法\",\n",
    "                       steps=[label_step, release_step, job_step, model_step, service_step], storages=[output_storage])"
   ]
  },
  {
   "cell_type": "code",
   "execution_count": 6,
   "id": "6e8966d0-6d20-4029-a2ea-b5fce92e1d19",
   "metadata": {},
   "outputs": [
    {
     "name": "stderr",
     "output_type": "stream",
     "text": [
      "INFO:root:start releasing Workflow DeepLabV3plus\n",
      "INFO:root:Workflow DeepLabV3plus successfully released, and workflow ID is 4a1e3f42-bc64-47c7-9d3b-eb4624a92af1\n"
     ]
    },
    {
     "data": {
      "text/plain": [
       "'4a1e3f42-bc64-47c7-9d3b-eb4624a92af1'"
      ]
     },
     "execution_count": 6,
     "metadata": {},
     "output_type": "execute_result"
    }
   ],
   "source": [
    "# 发布后, 若日志打印显示发布成功，则可前往MA的workflow页面中查看新发布的工作流。\n",
    "workflow.release()"
   ]
  },
  {
   "cell_type": "markdown",
   "id": "07270d76-f0e5-438e-8f4d-9e3bc67c6778",
   "metadata": {},
   "source": [
    "# 发布到 AI Gallery"
   ]
  },
  {
   "cell_type": "code",
   "execution_count": null,
   "id": "a9b4e370-ca0d-447e-8d26-debf1041318e",
   "metadata": {},
   "outputs": [],
   "source": [
    "# 新建Workflow资产\n",
    "content_id = workflow.create_content(title=\"DeepLab v3 plus 图像语义分割算法\", visibility=\"public\")\n",
    "print(content_id)"
   ]
  },
  {
   "cell_type": "code",
   "execution_count": 7,
   "id": "2490ec77-41fc-48f5-a292-59460e39410e",
   "metadata": {},
   "outputs": [
    {
     "name": "stderr",
     "output_type": "stream",
     "text": [
      "INFO:root:Start publish Workflow DeepLabV3plus to the AI gallery, and version name is 1.0.0\n",
      "INFO:root:Workflow version 1.0.0 successfully published to the AI gallery\n"
     ]
    }
   ],
   "source": [
    "# 发布Workflow的新版本\n",
    "idd = \"e4cdd5bd-fef9-4325-a9df-b8e702501a96\"\n",
    "workflow.release_to_gallery(content_id = idd, version=\"1.0.0\", desc=\"DeepLab v3 plus 图像语义分割算法\")"
   ]
  }
 ],
 "metadata": {
  "kernelspec": {
   "display_name": "PyTorch-1.8",
   "language": "python",
   "name": "pytorch-1.8"
  },
  "language_info": {
   "codemirror_mode": {
    "name": "ipython",
    "version": 3
   },
   "file_extension": ".py",
   "mimetype": "text/x-python",
   "name": "python",
   "nbconvert_exporter": "python",
   "pygments_lexer": "ipython3",
   "version": "3.7.10"
  }
 },
 "nbformat": 4,
 "nbformat_minor": 5
}
